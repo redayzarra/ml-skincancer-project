{
 "cells": [
  {
   "cell_type": "code",
   "execution_count": 10,
   "id": "6374ce03",
   "metadata": {},
   "outputs": [
    {
     "name": "stdout",
     "output_type": "stream",
     "text": [
      "(2239, 250, 250, 3)\n"
     ]
    }
   ],
   "source": [
    "import os\n",
    "import pickle\n",
    "import numpy as np\n",
    "import cv2\n",
    "\n",
    "# Set the directory paths\n",
    "train_dir = \"skin-cancers/Train\"\n",
    "test_dir = \"skin-cancers/Test\"\n",
    "\n",
    "# Set the desired size for the images\n",
    "width = 250\n",
    "height = 250\n",
    "\n",
    "# Get a list of all the sub-folders in the \"Train\" and \"Test\" folders\n",
    "train_subfolders = os.listdir(train_dir)\n",
    "test_subfolders = os.listdir(test_dir)\n",
    "\n",
    "# Create empty lists to store the image data and labels\n",
    "X_train = []\n",
    "y_train = []\n",
    "X_test = []\n",
    "y_test = []\n",
    "\n",
    "# Iterate through the sub-folders and images in the \"Train\" folder\n",
    "for subfolder in train_subfolders:\n",
    "    subfolder_path = os.path.join(train_dir, subfolder)\n",
    "    images = os.listdir(subfolder_path)\n",
    "    for image in images:\n",
    "        image_path = os.path.join(subfolder_path, image)\n",
    "        # Read the image and resize it\n",
    "        img = cv2.imread(image_path)\n",
    "        resized_img = cv2.resize(img, (width, height))\n",
    "        # Append the resized image to the X_train list\n",
    "        X_train.append(resized_img)\n",
    "        # Append the subfolder name as the label for the image\n",
    "        y_train.append(subfolder)\n",
    "\n",
    "# Iterate through the sub-folders and images in the \"Test\" folder\n",
    "for subfolder in test_subfolders:\n",
    "    subfolder_path = os.path.join(test_dir, subfolder)\n",
    "    images = os.listdir(subfolder_path)\n",
    "    for image in images:\n",
    "        image_path = os.path.join(subfolder_path, image)\n",
    "        # Read the image and resize it\n",
    "        img = cv2.imread(image_path)\n",
    "        resized_img = cv2.resize(img, (width, height))\n",
    "        # Append the resized image to the X_test list\n",
    "        X_test.append(resized_img)\n",
    "        # Append the subfolder name as the label for the image\n",
    "        y_test.append(subfolder)\n",
    "\n",
    "# Save the image data and labels as a .p file for the train and test sets\n",
    "with open(\"train.p\", \"wb\") as f:\n",
    "    pickle.dump((X_train, y_train), f)\n",
    "with open(\"test.p\", \"wb\") as f:\n",
    "    pickle.dump((X_test, y_test), f)\n",
    "\n",
    "#Convert the list to numpy array and check the input shape of the training set\n",
    "X_train = np.array(X_train)\n",
    "X_test = np.array(X_test)\n",
    "print(X_train.shape)"
   ]
  }
 ],
 "metadata": {
  "kernelspec": {
   "display_name": "Python 3 (ipykernel)",
   "language": "python",
   "name": "python3"
  },
  "language_info": {
   "codemirror_mode": {
    "name": "ipython",
    "version": 3
   },
   "file_extension": ".py",
   "mimetype": "text/x-python",
   "name": "python",
   "nbconvert_exporter": "python",
   "pygments_lexer": "ipython3",
   "version": "3.9.13"
  }
 },
 "nbformat": 4,
 "nbformat_minor": 5
}
