{
 "cells": [
  {
   "cell_type": "markdown",
   "id": "8e7f076a",
   "metadata": {},
   "source": [
    "# Skin Cancer Classification - Convolutional Network"
   ]
  },
  {
   "cell_type": "markdown",
   "id": "f8e17838",
   "metadata": {},
   "source": [
    "### by ReDay Zarra"
   ]
  },
  {
   "cell_type": "markdown",
   "id": "5e306c7b",
   "metadata": {},
   "source": [
    "This project utilizes a convolutional network to **identify 9 different kinds of skin cancers** including melanoma, nevus, and more. The model is **trained on over 2,200 pictures of various skin cancers** based off of this [dataset](https://www.kaggle.com/datasets/nodoubttome/skin-cancer9-classesisic). This model implements fundamental computer vision and classification techniques and includes a *step-by-step implementation of the model* as well as *in-depth notes to customize the model further* for higher accuracy."
   ]
  },
  {
   "cell_type": "markdown",
   "id": "2e91f37b",
   "metadata": {},
   "source": [
    "## Importing the necessary libraries"
   ]
  },
  {
   "cell_type": "markdown",
   "id": "80d56289",
   "metadata": {},
   "source": [
    "Importing the essential **libraries for data manipulation and numerical analysis**. We will also need libraries for **data visualization and plotting**. Pickle will be used to **compress our folder of images** into train.p, valid.p, and test.p"
   ]
  },
  {
   "cell_type": "code",
   "execution_count": 1,
   "id": "8f29139d",
   "metadata": {},
   "outputs": [],
   "source": [
    "import pandas as pd\n",
    "import numpy as np\n",
    "\n",
    "import matplotlib.pyplot as plt\n",
    "import seaborn\n",
    "\n",
    "import os\n",
    "import pickle\n",
    "import cv2"
   ]
  },
  {
   "cell_type": "markdown",
   "id": "cb838308",
   "metadata": {},
   "source": [
    "## Preparing the data"
   ]
  },
  {
   "cell_type": "markdown",
   "id": "45638014",
   "metadata": {},
   "source": [
    "To begin training the model,"
   ]
  },
  {
   "cell_type": "markdown",
   "id": "93d8ba0d",
   "metadata": {},
   "source": [
    "### Creating validation set"
   ]
  },
  {
   "cell_type": "markdown",
   "id": "9fd4fd24",
   "metadata": {},
   "source": [
    "The validation set can be **created with by using sci-kit learn's train_test_split()** function because we can simply **divide the training set** that we already have. I have chosen to **assign 20% of my training set** to my validation set. The validation data is then **stored separately in valid.p** file."
   ]
  },
  {
   "cell_type": "code",
   "execution_count": 73,
   "id": "baff7569",
   "metadata": {},
   "outputs": [],
   "source": [
    "from sklearn.model_selection import train_test_split\n",
    "\n",
    "# Split the train data into a validation set, using a 80/20 split\n",
    "X_train, X_validation, y_train, y_validation = train_test_split(X_train, y_train, test_size=0.2, random_state = 0)\n",
    "\n",
    "# save the validation data as valid.p using pickle\n",
    "with open('valid.p', 'wb') as f:\n",
    "    pickle.dump((X_validation, y_validation), f)"
   ]
  },
  {
   "cell_type": "markdown",
   "id": "48581d1c",
   "metadata": {},
   "source": [
    "### Convert to arrays"
   ]
  },
  {
   "cell_type": "markdown",
   "id": "cc9e3359",
   "metadata": {},
   "source": [
    "> In order to manipulate the data any further, the training, testing, and validation **datasets need to be converted into arrays**. The .array() method from NumPy allows an simple way to do just that."
   ]
  },
  {
   "cell_type": "code",
   "execution_count": 84,
   "id": "fd2b89e6",
   "metadata": {},
   "outputs": [],
   "source": [
    "import numpy as np\n",
    "\n",
    "# Convert the list of image data into a numpy array\n",
    "X_train = np.array(X_train)\n",
    "y_train = np.array(y_train)"
   ]
  },
  {
   "cell_type": "code",
   "execution_count": 88,
   "id": "362d679b",
   "metadata": {},
   "outputs": [
    {
     "data": {
      "text/plain": [
       "1791"
      ]
     },
     "execution_count": 88,
     "metadata": {},
     "output_type": "execute_result"
    }
   ],
   "source": [
    "len(X_train)"
   ]
  },
  {
   "cell_type": "code",
   "execution_count": null,
   "id": "2cdfe34f",
   "metadata": {},
   "outputs": [],
   "source": []
  },
  {
   "cell_type": "markdown",
   "id": "6efa963a",
   "metadata": {},
   "source": [
    "## Checking the dimensions of the dataset"
   ]
  },
  {
   "cell_type": "markdown",
   "id": "1b30f4f1",
   "metadata": {},
   "source": [
    "Before processing the data, it is necessary to make sure the dataset and the variables we have stored them in are correct. We can easily see the shape of the "
   ]
  },
  {
   "cell_type": "code",
   "execution_count": 78,
   "id": "c1059eb1",
   "metadata": {},
   "outputs": [
    {
     "data": {
      "text/plain": [
       "(1791,)"
      ]
     },
     "execution_count": 78,
     "metadata": {},
     "output_type": "execute_result"
    }
   ],
   "source": [
    "X_train.shape"
   ]
  }
 ],
 "metadata": {
  "kernelspec": {
   "display_name": "Python 3 (ipykernel)",
   "language": "python",
   "name": "python3"
  },
  "language_info": {
   "codemirror_mode": {
    "name": "ipython",
    "version": 3
   },
   "file_extension": ".py",
   "mimetype": "text/x-python",
   "name": "python",
   "nbconvert_exporter": "python",
   "pygments_lexer": "ipython3",
   "version": "3.9.13"
  }
 },
 "nbformat": 4,
 "nbformat_minor": 5
}
