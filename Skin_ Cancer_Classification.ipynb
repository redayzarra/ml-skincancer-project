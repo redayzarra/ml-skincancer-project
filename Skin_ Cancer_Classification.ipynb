{
 "cells": [
  {
   "cell_type": "markdown",
   "id": "dfbea8b9",
   "metadata": {},
   "source": [
    "# Skin Cancer Classification - Convolutional Network"
   ]
  },
  {
   "cell_type": "markdown",
   "id": "a1af89b0",
   "metadata": {},
   "source": [
    "### by ReDay Zarra"
   ]
  },
  {
   "cell_type": "markdown",
   "id": "7f7c2cf8",
   "metadata": {},
   "source": [
    "This project utilizes a convolutional network to **identify 9 different kinds of skin cancers** including melanoma, nevus, and more. The model is **trained on over 2,200 pictures of various skin cancers** based off of this [dataset](https://www.kaggle.com/datasets/nodoubttome/skin-cancer9-classesisic). This model implements fundamental computer vision and classification techniques and includes a *step-by-step implementation of the model* as well as *in-depth notes to customize the model further* for higher accuracy."
   ]
  },
  {
   "cell_type": "markdown",
   "id": "bfc5b5fc",
   "metadata": {},
   "source": [
    "## Importing the necessary libraries"
   ]
  },
  {
   "cell_type": "code",
   "execution_count": 13,
   "id": "8f29139d",
   "metadata": {},
   "outputs": [],
   "source": [
    "import pandas as pd\n",
    "import numpy as np\n",
    "import matplotlib.pyplot as plt\n",
    "import seaborn"
   ]
  },
  {
   "cell_type": "code",
   "execution_count": 14,
   "id": "bf3375a4",
   "metadata": {},
   "outputs": [],
   "source": [
    "import os\n",
    "import pickle\n",
    "\n",
    "# Specify the directory containing the Train and Test folders\n",
    "main_folder = 'skin-cancers'\n",
    "train_folder = 'Train'\n",
    "\n",
    "# Initialize an empty list to store the image data and labels\n",
    "train_data = []\n",
    "\n",
    "# Iterate through the sub-folders in the Train folder\n",
    "for sub_folder in os.listdir(os.path.join(main_folder, train_folder)):\n",
    "    sub_folder_path = os.path.join(main_folder, train_folder, sub_folder)\n",
    "    for image_file in os.listdir(sub_folder_path):\n",
    "        # Add the image data and label to the list\n",
    "        with open(os.path.join(sub_folder_path, image_file), 'rb') as f:\n",
    "            image_data = f.read()\n",
    "        # Assign the label as the sub-folder's name\n",
    "        label = sub_folder\n",
    "        train_data.append((image_data, label))\n",
    "\n",
    "# Save the train data list as a .p file using pickle\n",
    "with open(os.path.join(main_folder, 'train.p'), 'wb') as f:\n",
    "    pickle.dump(train_data, f)\n",
    "\n",
    "# Repeat steps for testing data\n",
    "test_folder = 'Test'\n",
    "test_data = []\n",
    "for sub_folder in os.listdir(os.path.join(main_folder, test_folder)):\n",
    "    sub_folder_path = os.path.join(main_folder, test_folder, sub_folder)\n",
    "    for image_file in os.listdir(sub_folder_path):\n",
    "        with open(os.path.join(sub_folder_path, image_file), 'rb') as f:\n",
    "            image_data = f.read()\n",
    "        label = sub_folder\n",
    "        test_data.append((image_data, label))\n",
    "\n",
    "with open(os.path.join(main_folder, 'test.p'), 'wb') as f:\n",
    "    pickle.dump(test_data, f)"
   ]
  },
  {
   "cell_type": "code",
   "execution_count": 20,
   "id": "7daba9ad",
   "metadata": {},
   "outputs": [],
   "source": [
    "import pickle\n",
    "\n",
    "# Load the train data from the .p file\n",
    "with open('train.p', 'rb') as f:\n",
    "    train = pickle.load(f)\n",
    "\n",
    "# Load the test data from the .p file\n",
    "with open('test.p', 'rb') as f:\n",
    "    test = pickle.load(f)\n",
    "\n",
    "# X_train will contain the image data and y_train will contain the labels\n",
    "X_train, y_train = [], []\n",
    "for image_data, label in train:\n",
    "    X_train.append(image_data)\n",
    "    y_train.append(label)\n",
    "\n",
    "# X_test will contain the image data and y_test will contain the labels\n",
    "X_test, y_test = [], []\n",
    "for image_data, label in test:\n",
    "    X_test.append(image_data)\n",
    "    y_test.append(label)"
   ]
  },
  {
   "cell_type": "code",
   "execution_count": 24,
   "id": "f255812b",
   "metadata": {},
   "outputs": [
    {
     "name": "stdout",
     "output_type": "stream",
     "text": [
      "(2239,)\n",
      "(2239,)\n"
     ]
    }
   ],
   "source": [
    "import numpy as np\n",
    "\n",
    "# Convert the list of image data into a numpy array\n",
    "X_train = np.array(X_train)\n",
    "y_train = np.array(y_train)"
   ]
  },
  {
   "cell_type": "code",
   "execution_count": 25,
   "id": "7a1b7ec9",
   "metadata": {},
   "outputs": [],
   "source": [
    "import numpy as np\n",
    "\n",
    "# Convert the list of image data into a numpy array\n",
    "X_test = np.array(X_test)\n",
    "y_test = np.array(y_test)"
   ]
  },
  {
   "cell_type": "code",
   "execution_count": 27,
   "id": "2b49ad4a",
   "metadata": {},
   "outputs": [
    {
     "data": {
      "text/plain": [
       "(2239,)"
      ]
     },
     "execution_count": 27,
     "metadata": {},
     "output_type": "execute_result"
    }
   ],
   "source": [
    "X_train.shape"
   ]
  },
  {
   "cell_type": "code",
   "execution_count": 28,
   "id": "17a79201",
   "metadata": {},
   "outputs": [
    {
     "data": {
      "text/plain": [
       "(2239,)"
      ]
     },
     "execution_count": 28,
     "metadata": {},
     "output_type": "execute_result"
    }
   ],
   "source": [
    "y_train.shape"
   ]
  },
  {
   "cell_type": "code",
   "execution_count": 29,
   "id": "a1541445",
   "metadata": {},
   "outputs": [
    {
     "data": {
      "text/plain": [
       "(118,)"
      ]
     },
     "execution_count": 29,
     "metadata": {},
     "output_type": "execute_result"
    }
   ],
   "source": [
    "X_test.shape"
   ]
  },
  {
   "cell_type": "code",
   "execution_count": 30,
   "id": "b8c3689d",
   "metadata": {},
   "outputs": [
    {
     "data": {
      "text/plain": [
       "(118,)"
      ]
     },
     "execution_count": 30,
     "metadata": {},
     "output_type": "execute_result"
    }
   ],
   "source": [
    "y_test.shape"
   ]
  }
 ],
 "metadata": {
  "kernelspec": {
   "display_name": "Python 3 (ipykernel)",
   "language": "python",
   "name": "python3"
  },
  "language_info": {
   "codemirror_mode": {
    "name": "ipython",
    "version": 3
   },
   "file_extension": ".py",
   "mimetype": "text/x-python",
   "name": "python",
   "nbconvert_exporter": "python",
   "pygments_lexer": "ipython3",
   "version": "3.9.13"
  }
 },
 "nbformat": 4,
 "nbformat_minor": 5
}
