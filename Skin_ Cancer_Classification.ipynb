{
 "cells": [
  {
   "cell_type": "markdown",
   "id": "8e7f076a",
   "metadata": {},
   "source": [
    "# Skin Cancer Classification - Convolutional Network"
   ]
  },
  {
   "cell_type": "markdown",
   "id": "f8e17838",
   "metadata": {},
   "source": [
    "### by ReDay Zarra"
   ]
  },
  {
   "cell_type": "markdown",
   "id": "5e306c7b",
   "metadata": {},
   "source": [
    "This project utilizes a convolutional network to **identify 9 different kinds of skin cancers** including melanoma, nevus, and more. The model is **trained on over 2,200 pictures of various skin cancers** based off of this [dataset](https://www.kaggle.com/datasets/nodoubttome/skin-cancer9-classesisic). This model implements fundamental computer vision and classification techniques and includes a *step-by-step implementation of the model* as well as *in-depth notes to customize the model further* for higher accuracy."
   ]
  },
  {
   "cell_type": "markdown",
   "id": "2e91f37b",
   "metadata": {},
   "source": [
    "## Importing the necessary libraries"
   ]
  },
  {
   "cell_type": "markdown",
   "id": "80d56289",
   "metadata": {},
   "source": [
    "Importing the essential **libraries for data manipulation and numerical analysis**. We will also need libraries for **data visualization and plotting**. Pickle will be used to **compress our folder of images** into train.p, valid.p, and test.p"
   ]
  },
  {
   "cell_type": "code",
   "execution_count": 1,
   "id": "8f29139d",
   "metadata": {},
   "outputs": [],
   "source": [
    "import pandas as pd\n",
    "import numpy as np\n",
    "\n",
    "import matplotlib.pyplot as plt\n",
    "import seaborn\n",
    "\n",
    "import os\n",
    "import pickle\n",
    "import cv2"
   ]
  },
  {
   "cell_type": "markdown",
   "id": "cb838308",
   "metadata": {},
   "source": [
    "## Preparing the data"
   ]
  },
  {
   "cell_type": "markdown",
   "id": "e0180e32",
   "metadata": {},
   "source": [
    "To begin training the model we need to **prepare our images** which are currently stored in our main folder \"skin-cancers\". These images need to be extracted and stored into variables for us to access. The variables will be manipulated to become our training, validation, and testing sets."
   ]
  },
  {
   "cell_type": "markdown",
   "id": "27324b8e",
   "metadata": {},
   "source": [
    "### Configure the data"
   ]
  },
  {
   "cell_type": "code",
   "execution_count": null,
   "id": "3c53ef6c",
   "metadata": {},
   "outputs": [],
   "source": [
    "train_dir = \"skin-cancers/Train\"\n",
    "test_dir = \"skin-cancers/Test\""
   ]
  },
  {
   "cell_type": "markdown",
   "id": "1e1ba687",
   "metadata": {},
   "source": [
    "> We will first **locate the images**. The 'skin-cancers' main folder holds two folders called Train and Test which hold many sub-folders. The **variables store the file path** to these two folders."
   ]
  },
  {
   "cell_type": "code",
   "execution_count": null,
   "id": "94bdf64b",
   "metadata": {},
   "outputs": [],
   "source": [
    "width = 250\n",
    "height = 250"
   ]
  },
  {
   "cell_type": "markdown",
   "id": "1e6b2a35",
   "metadata": {},
   "source": [
    ">Choose the **dimensions to resize the images** into 250 x 250 px to ensure all the images are the same size."
   ]
  },
  {
   "cell_type": "code",
   "execution_count": null,
   "id": "f88b773b",
   "metadata": {},
   "outputs": [],
   "source": [
    "train_subfolders = os.listdir(train_dir)\n",
    "test_subfolders = os.listdir(test_dir)"
   ]
  },
  {
   "cell_type": "markdown",
   "id": "b6f7fe22",
   "metadata": {},
   "source": [
    "> Target the **location of the subfolders** which are stored in the variables above."
   ]
  },
  {
   "cell_type": "markdown",
   "id": "fae13433",
   "metadata": {},
   "source": [
    "### Creating training set"
   ]
  },
  {
   "cell_type": "code",
   "execution_count": 2,
   "id": "84e0496e",
   "metadata": {},
   "outputs": [],
   "source": [
    "X_train = []\n",
    "y_train = []"
   ]
  },
  {
   "cell_type": "code",
   "execution_count": null,
   "id": "ecd31574",
   "metadata": {},
   "outputs": [],
   "source": [
    "for subfolder in train_subfolders:\n",
    "    \n",
    "    subfolder_path = os.path.join(train_dir, subfolder)\n",
    "    images = os.listdir(subfolder_path)\n",
    "    \n",
    "    for image in images:\n",
    "        image_path = os.path.join(subfolder_path, image)\n",
    "        \n",
    "        # Read the image and resize it\n",
    "        img = cv2.imread(image_path)\n",
    "        resized_img = cv2.resize(img, (width, height))\n",
    "        \n",
    "        # Append the resized image to the X_train list\n",
    "        X_train.append(resized_img)\n",
    "        \n",
    "        # Append the subfolder name as the label for the image\n",
    "        y_train.append(subfolder)"
   ]
  },
  {
   "cell_type": "markdown",
   "id": "fed41f50",
   "metadata": {},
   "source": [
    "> **Iterate through the sub-folders** in the Train folder and look for images in the folder. For every image in the sub-folder, **store the image** file path and read it into the variable img. Next, **resize the image** with the width and height parameters and then **append them to X_train and Y_train**."
   ]
  },
  {
   "cell_type": "markdown",
   "id": "cedf94f7",
   "metadata": {},
   "source": [
    "### Creating the testing set"
   ]
  },
  {
   "cell_type": "code",
   "execution_count": null,
   "id": "40e4de11",
   "metadata": {},
   "outputs": [],
   "source": [
    "for subfolder in test_subfolders:\n",
    "    subfolder_path = os.path.join(test_dir, subfolder)\n",
    "    images = os.listdir(subfolder_path)\n",
    "    for image in images:\n",
    "        image_path = os.path.join(subfolder_path, image)\n",
    "        # Read the image and resize it\n",
    "        img = cv2.imread(image_path)\n",
    "        resized_img = cv2.resize(img, (width, height))\n",
    "        # Append the resized image to the X_test list\n",
    "        X_test.append(resized_img)\n",
    "        # Append the subfolder name as the label for the image\n",
    "        y_test.append(subfolder)"
   ]
  },
  {
   "cell_type": "markdown",
   "id": "b2f63da1",
   "metadata": {},
   "source": [
    "> **Repeat the process** of iterating through the sub-folders **for the Test folder** and append the images to X_test and y_test."
   ]
  },
  {
   "cell_type": "markdown",
   "id": "93d8ba0d",
   "metadata": {},
   "source": [
    "### Creating validation set"
   ]
  },
  {
   "cell_type": "markdown",
   "id": "9fd4fd24",
   "metadata": {},
   "source": [
    "The validation set can be **created with by using sci-kit learn's train_test_split()** function because we can simply **divide the training set** that we already have. I have chosen to **assign 20% of my training set** to my validation set. The validation data is then **stored separately in valid.p** file."
   ]
  },
  {
   "cell_type": "code",
   "execution_count": 73,
   "id": "baff7569",
   "metadata": {},
   "outputs": [],
   "source": [
    "from sklearn.model_selection import train_test_split\n",
    "\n",
    "# Split the train data into a validation set, using a 80/20 split\n",
    "X_train, X_validation, y_train, y_validation = train_test_split(X_train, y_train, test_size=0.2, random_state = 0)"
   ]
  },
  {
   "cell_type": "markdown",
   "id": "0d9e3bcb",
   "metadata": {},
   "source": [
    "### Creating the dataset files"
   ]
  },
  {
   "cell_type": "markdown",
   "id": "586743d0",
   "metadata": {},
   "source": [
    "> Use the training, testing, and validation dataset variables to **store the images in .p files**. The .dump() method from pickle allows you to create train.p, test.p, and valid.p and store the X and y variables in them."
   ]
  },
  {
   "cell_type": "code",
   "execution_count": null,
   "id": "bb1b68f8",
   "metadata": {},
   "outputs": [],
   "source": [
    "with open(\"train.p\", \"wb\") as f:\n",
    "    pickle.dump((X_train, y_train), f)\n",
    "    \n",
    "with open(\"test.p\", \"wb\") as f:\n",
    "    pickle.dump((X_test, y_test), f)\n",
    "    \n",
    "\n",
    "with open('valid.p', 'wb') as f:\n",
    "    pickle.dump((X_validation, y_validation), f)"
   ]
  },
  {
   "cell_type": "markdown",
   "id": "48581d1c",
   "metadata": {},
   "source": [
    "### Convert to arrays"
   ]
  },
  {
   "cell_type": "code",
   "execution_count": 84,
   "id": "fd2b89e6",
   "metadata": {},
   "outputs": [],
   "source": [
    "import numpy as np\n",
    "\n",
    "# Convert the list of image data into a numpy array\n",
    "X_train = np.array(X_train)\n",
    "y_train = np.array(y_train)\n",
    "\n",
    "X_test = np.array(X_test)\n",
    "y_test = np.array(y_test)\n",
    "\n",
    "X_valid = np.array(X_valid)\n",
    "y_valid = np.array(y_valid)"
   ]
  },
  {
   "cell_type": "markdown",
   "id": "cc9e3359",
   "metadata": {},
   "source": [
    "> In order to manipulate the data any further, the training, testing, and validation **datasets need to be converted into arrays**. The .array() method from NumPy allows an simple way to do just that."
   ]
  },
  {
   "cell_type": "markdown",
   "id": "6efa963a",
   "metadata": {},
   "source": [
    "## Checking the dimensions of the dataset"
   ]
  },
  {
   "cell_type": "markdown",
   "id": "1b30f4f1",
   "metadata": {},
   "source": [
    "Before processing the data, it is necessary to make sure the dataset and the variables we have stored them in are correct. We can easily see the shape of the "
   ]
  },
  {
   "cell_type": "code",
   "execution_count": 78,
   "id": "c1059eb1",
   "metadata": {},
   "outputs": [
    {
     "data": {
      "text/plain": [
       "(1791,)"
      ]
     },
     "execution_count": 78,
     "metadata": {},
     "output_type": "execute_result"
    }
   ],
   "source": [
    "X_train.shape"
   ]
  },
  {
   "cell_type": "code",
   "execution_count": null,
   "id": "6901e311",
   "metadata": {},
   "outputs": [],
   "source": [
    "y_train.shape"
   ]
  },
  {
   "cell_type": "code",
   "execution_count": null,
   "id": "7099e3be",
   "metadata": {},
   "outputs": [],
   "source": [
    "X_test.shape"
   ]
  }
 ],
 "metadata": {
  "kernelspec": {
   "display_name": "Python 3 (ipykernel)",
   "language": "python",
   "name": "python3"
  },
  "language_info": {
   "codemirror_mode": {
    "name": "ipython",
    "version": 3
   },
   "file_extension": ".py",
   "mimetype": "text/x-python",
   "name": "python",
   "nbconvert_exporter": "python",
   "pygments_lexer": "ipython3",
   "version": "3.9.13"
  }
 },
 "nbformat": 4,
 "nbformat_minor": 5
}
