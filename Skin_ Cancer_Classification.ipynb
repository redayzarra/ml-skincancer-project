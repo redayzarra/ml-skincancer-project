{
 "cells": [
  {
   "cell_type": "markdown",
   "id": "f5668890",
   "metadata": {},
   "source": [
    "# Skin Cancer Classification - Convolutional Network"
   ]
  },
  {
   "cell_type": "markdown",
   "id": "69bc8ca7",
   "metadata": {},
   "source": [
    "### by ReDay Zarra"
   ]
  },
  {
   "cell_type": "markdown",
   "id": "c12c9f67",
   "metadata": {},
   "source": [
    "This project utilizes a convolutional network to **identify 9 different kinds of skin cancers** including melanoma, nevus, and more. The model is **trained on over 2,200 pictures of various skin cancers** based off of this [dataset](https://www.kaggle.com/datasets/nodoubttome/skin-cancer9-classesisic). This model implements fundamental computer vision and classification techniques and includes a *step-by-step implementation of the model* as well as *in-depth notes to customize the model further* for higher accuracy."
   ]
  },
  {
   "cell_type": "markdown",
   "id": "a87dcdc2",
   "metadata": {},
   "source": [
    "## Importing the necessary libraries"
   ]
  },
  {
   "cell_type": "markdown",
   "id": "be75e718",
   "metadata": {},
   "source": [
    "Importing the essential **libraries for data manipulation and numerical analysis**. We will also need libraries for **data visualization and plotting**. Pickle will be used to **compress our folder of images** into train.p, valid.p, and test.p"
   ]
  },
  {
   "cell_type": "code",
   "execution_count": 13,
   "id": "8f29139d",
   "metadata": {},
   "outputs": [],
   "source": [
    "import pandas as pd\n",
    "import numpy as np\n",
    "\n",
    "import matplotlib.pyplot as plt\n",
    "import seaborn\n",
    "\n",
    "import os\n",
    "import pickle"
   ]
  },
  {
   "cell_type": "markdown",
   "id": "97d845a6",
   "metadata": {},
   "source": [
    "## Compressing image files to Pickle"
   ]
  },
  {
   "cell_type": "markdown",
   "id": "62a11f5e",
   "metadata": {},
   "source": [
    "The [dataset](https://www.kaggle.com/datasets/nodoubttome/skin-cancer9-classesisic) provides us with **over 2,350 images in two different folders** called \"Train\" and \"Test\". The folders **contain many sub-folders (whose names are labels)** which contain many different images. We need to **compress these images into train.p, valid.p, and test.p** all with the labels assigned. "
   ]
  },
  {
   "cell_type": "code",
   "execution_count": 14,
   "id": "bf3375a4",
   "metadata": {},
   "outputs": [],
   "source": [
    "# Specify the directory containing the Train and Test folders\n",
    "main_folder = 'skin-cancers'\n",
    "train_folder = 'Train'\n",
    "\n",
    "# Initialize an empty list to store the image data and labels\n",
    "train_data = []\n",
    "\n",
    "# Iterate through the sub-folders in the Train folder\n",
    "for sub_folder in os.listdir(os.path.join(main_folder, train_folder)):\n",
    "    sub_folder_path = os.path.join(main_folder, train_folder, sub_folder)\n",
    "    for image_file in os.listdir(sub_folder_path):\n",
    "        # Add the image data and label to the list\n",
    "        with open(os.path.join(sub_folder_path, image_file), 'rb') as f:\n",
    "            image_data = f.read()\n",
    "        # Assign the label as the sub-folder's name\n",
    "        label = sub_folder\n",
    "        train_data.append((image_data, label))\n",
    "\n",
    "# Save the train data list as a .p file using pickle\n",
    "with open(os.path.join(main_folder, 'train.p'), 'wb') as f:\n",
    "    pickle.dump(train_data, f)\n",
    "\n",
    "# Repeat steps for testing data\n",
    "test_folder = 'Test'\n",
    "test_data = []\n",
    "for sub_folder in os.listdir(os.path.join(main_folder, test_folder)):\n",
    "    sub_folder_path = os.path.join(main_folder, test_folder, sub_folder)\n",
    "    for image_file in os.listdir(sub_folder_path):\n",
    "        with open(os.path.join(sub_folder_path, image_file), 'rb') as f:\n",
    "            image_data = f.read()\n",
    "        label = sub_folder\n",
    "        test_data.append((image_data, label))\n",
    "\n",
    "with open(os.path.join(main_folder, 'test.p'), 'wb') as f:\n",
    "    pickle.dump(test_data, f)"
   ]
  },
  {
   "cell_type": "markdown",
   "id": "d89d6c1e",
   "metadata": {},
   "source": [
    "## Loading the dataset"
   ]
  },
  {
   "cell_type": "markdown",
   "id": "3868ef8a",
   "metadata": {},
   "source": [
    "The code above creates the dataset but they still need to be loaded into the file. This can be done by Pickle's simple-to-use **open() function which loads the dataset** into a variable, in this case train and test."
   ]
  },
  {
   "cell_type": "code",
   "execution_count": 47,
   "id": "99c38286",
   "metadata": {},
   "outputs": [],
   "source": [
    "# Load the train data from the .p file\n",
    "with open('train.p', 'rb') as f:\n",
    "    train = pickle.load(f)\n",
    "\n",
    "# Load the test data from the .p file\n",
    "with open('test.p', 'rb') as f:\n",
    "    test = pickle.load(f)\n"
   ]
  },
  {
   "cell_type": "markdown",
   "id": "7d2b6158",
   "metadata": {},
   "source": [
    "## Splitting the dataset"
   ]
  },
  {
   "cell_type": "markdown",
   "id": "3dba1b7c",
   "metadata": {},
   "source": [
    "The dataset can now be **split into training and testing sets**. We need to make sure that **X_train and X_test only contain image data**, because those are the features. The **labels**, or the dependent variable, will be **stored in y_train and y_test**."
   ]
  },
  {
   "cell_type": "markdown",
   "id": "d79e7236",
   "metadata": {},
   "source": [
    "### Creating training and testing sets"
   ]
  },
  {
   "cell_type": "markdown",
   "id": "f678b261",
   "metadata": {},
   "source": [
    "The training and testing sets can be **created with a simple for loop** that will **iterate through every element** in the train and test variables (which stores all images) and **adds them to sepearte empty arrays** for features and labels."
   ]
  },
  {
   "cell_type": "code",
   "execution_count": 31,
   "id": "00644b27",
   "metadata": {},
   "outputs": [],
   "source": [
    "# X_train will contain the image data and y_train will contain the labels\n",
    "X_train, y_train = [], []\n",
    "for image_data, label in train:\n",
    "    X_train.append(image_data)\n",
    "    y_train.append(label)\n",
    "\n",
    "# X_test will contain the image data and y_test will contain the labels\n",
    "X_test, y_test = [], []\n",
    "for image_data, label in test:\n",
    "    X_test.append(image_data)\n",
    "    y_test.append(label)"
   ]
  },
  {
   "cell_type": "markdown",
   "id": "c111139d",
   "metadata": {},
   "source": [
    "### Creating validation set"
   ]
  },
  {
   "cell_type": "markdown",
   "id": "03418aaf",
   "metadata": {},
   "source": [
    "The validation set can be **created with by using sci-kit learn's train_test_split()** function because we can simply **divide the training set** that we already have. I have chosen to **assign 20% of my training set** to my validation set. The validation data is then **stored separately in valid.p** file."
   ]
  },
  {
   "cell_type": "code",
   "execution_count": 32,
   "id": "e7f151f0",
   "metadata": {},
   "outputs": [],
   "source": [
    "from sklearn.model_selection import train_test_split\n",
    "\n",
    "# Split the train data into a validation set, using a 80/20 split\n",
    "X_train, X_validation, y_train, y_validation = train_test_split(X_train, y_train, test_size=0.2, random_state=42)\n",
    "\n",
    "# save the validation data as valid.p using pickle\n",
    "with open('valid.p', 'wb') as f:\n",
    "    pickle.dump((X_validation, y_validation), f)"
   ]
  },
  {
   "cell_type": "markdown",
   "id": "12354642",
   "metadata": {},
   "source": [
    "### Convert to arrays"
   ]
  },
  {
   "cell_type": "markdown",
   "id": "c15168c4",
   "metadata": {},
   "source": [
    "> In order to manipulate the data any further, the training, testing, and validation **datasets need to be converted into arrays**. The .array() method from NumPy allows an simple way to do just that."
   ]
  },
  {
   "cell_type": "code",
   "execution_count": 33,
   "id": "ec50e406",
   "metadata": {},
   "outputs": [],
   "source": [
    "import numpy as np\n",
    "\n",
    "# Convert the list of image data into a numpy array\n",
    "X_train = np.array(X_train)\n",
    "y_train = np.array(y_train)"
   ]
  },
  {
   "cell_type": "code",
   "execution_count": 39,
   "id": "58e905f7",
   "metadata": {},
   "outputs": [],
   "source": [
    "import numpy as np\n",
    "\n",
    "# Convert the list of image data into a numpy array\n",
    "X_validation = np.array(X_validation)\n",
    "y_validation = np.array(y_validation)"
   ]
  },
  {
   "cell_type": "code",
   "execution_count": 40,
   "id": "192ca3a9",
   "metadata": {},
   "outputs": [],
   "source": [
    "import numpy as np\n",
    "\n",
    "# Convert the list of image data into a numpy array\n",
    "X_test = np.array(X_test)\n",
    "y_test = np.array(y_test)"
   ]
  },
  {
   "cell_type": "markdown",
   "id": "0feee6f3",
   "metadata": {},
   "source": [
    "## Checking the dimensions of the dataset"
   ]
  },
  {
   "cell_type": "markdown",
   "id": "37304aeb",
   "metadata": {},
   "source": [
    "Before processing the data, it "
   ]
  },
  {
   "cell_type": "code",
   "execution_count": 41,
   "id": "d866c142",
   "metadata": {},
   "outputs": [
    {
     "data": {
      "text/plain": [
       "(1791,)"
      ]
     },
     "execution_count": 41,
     "metadata": {},
     "output_type": "execute_result"
    }
   ],
   "source": [
    "X_train.shape"
   ]
  },
  {
   "cell_type": "code",
   "execution_count": 42,
   "id": "1affeb5f",
   "metadata": {},
   "outputs": [
    {
     "data": {
      "text/plain": [
       "(1791,)"
      ]
     },
     "execution_count": 42,
     "metadata": {},
     "output_type": "execute_result"
    }
   ],
   "source": [
    "y_train.shape"
   ]
  },
  {
   "cell_type": "code",
   "execution_count": 43,
   "id": "599aa01a",
   "metadata": {},
   "outputs": [
    {
     "data": {
      "text/plain": [
       "(448,)"
      ]
     },
     "execution_count": 43,
     "metadata": {},
     "output_type": "execute_result"
    }
   ],
   "source": [
    "X_validation.shape"
   ]
  },
  {
   "cell_type": "code",
   "execution_count": 44,
   "id": "5284b9b6",
   "metadata": {},
   "outputs": [
    {
     "data": {
      "text/plain": [
       "(448,)"
      ]
     },
     "execution_count": 44,
     "metadata": {},
     "output_type": "execute_result"
    }
   ],
   "source": [
    "y_validation.shape"
   ]
  },
  {
   "cell_type": "code",
   "execution_count": 45,
   "id": "1b5f3836",
   "metadata": {},
   "outputs": [
    {
     "data": {
      "text/plain": [
       "(118,)"
      ]
     },
     "execution_count": 45,
     "metadata": {},
     "output_type": "execute_result"
    }
   ],
   "source": [
    "X_test.shape"
   ]
  },
  {
   "cell_type": "code",
   "execution_count": 46,
   "id": "0697405a",
   "metadata": {},
   "outputs": [
    {
     "data": {
      "text/plain": [
       "(118,)"
      ]
     },
     "execution_count": 46,
     "metadata": {},
     "output_type": "execute_result"
    }
   ],
   "source": [
    "y_test.shape"
   ]
  }
 ],
 "metadata": {
  "kernelspec": {
   "display_name": "Python 3 (ipykernel)",
   "language": "python",
   "name": "python3"
  },
  "language_info": {
   "codemirror_mode": {
    "name": "ipython",
    "version": 3
   },
   "file_extension": ".py",
   "mimetype": "text/x-python",
   "name": "python",
   "nbconvert_exporter": "python",
   "pygments_lexer": "ipython3",
   "version": "3.9.13"
  }
 },
 "nbformat": 4,
 "nbformat_minor": 5
}
