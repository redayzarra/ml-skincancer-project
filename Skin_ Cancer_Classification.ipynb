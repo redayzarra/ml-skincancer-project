{
 "cells": [
  {
   "cell_type": "code",
   "execution_count": 17,
   "id": "8ca9eda3",
   "metadata": {},
   "outputs": [],
   "source": [
    "import pandas as pd\n",
    "import numpy as np\n",
    "import matplotlib.pyplot as plt\n",
    "import seaborn"
   ]
  },
  {
   "cell_type": "code",
   "execution_count": 21,
   "id": "18619242",
   "metadata": {},
   "outputs": [],
   "source": [
    "import os\n",
    "from PIL import Image\n",
    "import pickle\n",
    "\n",
    "# define the path to the main folder\n",
    "main_folder = \"skin-cancers\"\n",
    "\n",
    "# define the path to the test folder\n",
    "test_folder = os.path.join(main_folder, \"Test\")\n",
    "\n",
    "# define the path to the train folder\n",
    "train_folder = os.path.join(main_folder, \"Train\")\n",
    "\n",
    "# create empty lists to store the test and train images\n",
    "test_images = []\n",
    "train_images = []\n",
    "\n",
    "# loop through the test folders and open the image files\n",
    "for label_folder in os.listdir(test_folder):\n",
    "    label_path = os.path.join(test_folder, label_folder)\n",
    "    for image_file in os.listdir(label_path):\n",
    "        image = Image.open(os.path.join(label_path, image_file))\n",
    "        test_images.append(image)\n",
    "\n",
    "# loop through the train folders and open the image files\n",
    "for label_folder in os.listdir(train_folder):\n",
    "    label_path = os.path.join(train_folder, label_folder)\n",
    "    for image_file in os.listdir(label_path):\n",
    "        image = Image.open(os.path.join(label_path, image_file))\n",
    "        train_images.append(image)\n",
    "\n",
    "# save the test and train images as pickle files\n",
    "with open(\"test.p\", \"wb\") as f:\n",
    "    pickle.dump(test_images, f)\n",
    "with open(\"train.p\", \"wb\") as f:\n",
    "    pickle.dump(train_images, f)"
   ]
  }
 ],
 "metadata": {
  "kernelspec": {
   "display_name": "Python 3 (ipykernel)",
   "language": "python",
   "name": "python3"
  },
  "language_info": {
   "codemirror_mode": {
    "name": "ipython",
    "version": 3
   },
   "file_extension": ".py",
   "mimetype": "text/x-python",
   "name": "python",
   "nbconvert_exporter": "python",
   "pygments_lexer": "ipython3",
   "version": "3.9.13"
  }
 },
 "nbformat": 4,
 "nbformat_minor": 5
}
